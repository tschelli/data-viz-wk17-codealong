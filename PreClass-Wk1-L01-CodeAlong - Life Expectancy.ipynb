{
 "cells": [
  {
   "cell_type": "markdown",
   "id": "0eba0efa",
   "metadata": {},
   "source": [
    "# Week 17, Lecture 01 CodeAlong\n",
    "- Coefficients & Feature Importance"
   ]
  },
  {
   "cell_type": "markdown",
   "id": "0fc21da5",
   "metadata": {},
   "source": [
    "## Lesson Objectives"
   ]
  },
  {
   "cell_type": "markdown",
   "id": "23a92cad",
   "metadata": {},
   "source": [
    "- By the end of this lesson, students will be able to:\n",
    "    - Extract feature names from sklearn v1.1 objects\n",
    "    - Extract and visualize coefficients\n",
    "    - Save models to a joblib file\n"
   ]
  },
  {
   "cell_type": "markdown",
   "id": "dc5c874e",
   "metadata": {},
   "source": [
    "### Life Expectancy"
   ]
  },
  {
   "cell_type": "markdown",
   "id": "031af932",
   "metadata": {},
   "source": [
    "> Task Inspired by: https://medium.com/@shanzehhaji/using-a-linear-regression-model-to-predict-life-expectancy-de3aef66ac21\n",
    "\n",
    "- Kaggle Dataset on Life Expectancy:\n",
    "    - https://www.kaggle.com/datasets/kumarajarshi/life-expectancy-who"
   ]
  },
  {
   "cell_type": "code",
   "execution_count": null,
   "id": "94a13e42",
   "metadata": {
    "ExecuteTime": {
     "end_time": "2023-01-25T00:11:08.187528Z",
     "start_time": "2023-01-25T00:11:07.091111Z"
    }
   },
   "outputs": [],
   "source": [
    "## Our standard imports\n",
    "import pandas as pd\n",
    "import numpy as np\n",
    "import matplotlib.pyplot as plt\n",
    "import seaborn as sns\n",
    "import missingno as miss\n",
    "\n",
    "## Preprocessing tools\n",
    "from sklearn.model_selection import train_test_split\n",
    "from sklearn.compose import make_column_transformer, make_column_selector\n",
    "from sklearn.pipeline import make_pipeline\n",
    "from sklearn.preprocessing import OneHotEncoder, StandardScaler\n",
    "from sklearn.impute import SimpleImputer\n",
    "\n",
    "## Models & evaluation metrics\n",
    "from sklearn import metrics\n",
    "from sklearn.linear_model import LinearRegression\n",
    "from sklearn.tree import DecisionTreeRegressor\n",
    "from sklearn.ensemble import RandomForestRegressor\n",
    "import joblib\n",
    "\n",
    "## setting random state for reproducibility\n",
    "SEED = 321\n",
    "np.random.seed(SEED)\n",
    "## Matplotlib style\n",
    "fav_style = ('ggplot','tableau-colorblind10')\n",
    "fav_context  ={'context':'notebook', 'font_scale':1.1}\n",
    "plt.style.use(fav_style)\n",
    "sns.set_context(**fav_context)\n",
    "plt.rcParams['savefig.transparent'] = False\n",
    "plt.rcParams['savefig.bbox'] = 'tight'"
   ]
  },
  {
   "cell_type": "code",
   "execution_count": null,
   "id": "d9919101",
   "metadata": {
    "ExecuteTime": {
     "end_time": "2023-01-25T00:11:08.534886Z",
     "start_time": "2023-01-25T00:11:08.188670Z"
    }
   },
   "outputs": [],
   "source": [
    "## Importing Custom Functions\n",
    "%load_ext autoreload\n",
    "%autoreload 2\n",
    "from CODE import data_enrichment as de"
   ]
  },
  {
   "cell_type": "code",
   "execution_count": null,
   "id": "8ae06358",
   "metadata": {
    "ExecuteTime": {
     "end_time": "2023-01-25T00:11:08.577909Z",
     "start_time": "2023-01-25T00:11:08.535690Z"
    }
   },
   "outputs": [],
   "source": [
    "import pandas as pd\n",
    "df = pd.read_csv(\"Data/Life Expectancy Data.csv\")\n",
    "df.info()\n",
    "df.head(3)"
   ]
  },
  {
   "cell_type": "code",
   "execution_count": null,
   "id": "ab78e1d4",
   "metadata": {
    "ExecuteTime": {
     "end_time": "2023-01-25T00:11:08.614293Z",
     "start_time": "2023-01-25T00:11:08.579292Z"
    }
   },
   "outputs": [],
   "source": [
    "# clean extra spaces\n",
    "df.columns = df.columns.str.strip()\n",
    "df"
   ]
  },
  {
   "cell_type": "code",
   "execution_count": null,
   "id": "91551518",
   "metadata": {
    "ExecuteTime": {
     "end_time": "2023-01-25T00:11:08.654122Z",
     "start_time": "2023-01-25T00:11:08.615075Z"
    }
   },
   "outputs": [],
   "source": [
    "pd.set_option('display.max_columns',0)\n",
    "df"
   ]
  },
  {
   "cell_type": "markdown",
   "id": "285bb58e",
   "metadata": {},
   "source": [
    "## EDA"
   ]
  },
  {
   "cell_type": "code",
   "execution_count": null,
   "id": "9971df12",
   "metadata": {
    "ExecuteTime": {
     "end_time": "2023-01-25T00:11:08.684796Z",
     "start_time": "2023-01-25T00:11:08.654996Z"
    }
   },
   "outputs": [],
   "source": [
    "df.isna().sum()"
   ]
  },
  {
   "cell_type": "code",
   "execution_count": null,
   "id": "2e43c48c",
   "metadata": {
    "ExecuteTime": {
     "end_time": "2023-01-25T00:11:09.035436Z",
     "start_time": "2023-01-25T00:11:08.685929Z"
    }
   },
   "outputs": [],
   "source": [
    "miss.matrix(df)"
   ]
  },
  {
   "cell_type": "markdown",
   "id": "c213c8ea",
   "metadata": {},
   "source": [
    "> Can't have null values for the target!"
   ]
  },
  {
   "cell_type": "code",
   "execution_count": null,
   "id": "66143982",
   "metadata": {
    "ExecuteTime": {
     "end_time": "2023-01-25T00:11:09.064439Z",
     "start_time": "2023-01-25T00:11:09.036374Z"
    }
   },
   "outputs": [],
   "source": [
    "# drop null values ONLY FROM TARGET\n",
    "df = df.dropna(subset=['Life expectancy'])"
   ]
  },
  {
   "cell_type": "code",
   "execution_count": null,
   "id": "684f02f8",
   "metadata": {
    "ExecuteTime": {
     "end_time": "2023-01-25T00:11:09.226034Z",
     "start_time": "2023-01-25T00:11:09.065246Z"
    }
   },
   "outputs": [],
   "source": [
    "target = 'Life expectancy'\n",
    "\n",
    "grid_spec = {'height_ratios':[0.8,0.2]}\n",
    "fig, axes = plt.subplots(nrows=2, figsize=(6,5), gridspec_kw=grid_spec)\n",
    "\n",
    "sns.histplot(data=df, x=target,ax=axes[0])\n",
    "sns.boxplot(data=df, x=target, ax=axes[1]);"
   ]
  },
  {
   "cell_type": "markdown",
   "id": "150ae49f",
   "metadata": {},
   "source": [
    "## Preprocessing (with Sklearn v1.1+)"
   ]
  },
  {
   "cell_type": "code",
   "execution_count": null,
   "id": "2d000e2d",
   "metadata": {
    "ExecuteTime": {
     "end_time": "2023-01-25T00:11:09.383661Z",
     "start_time": "2023-01-25T00:11:09.229349Z"
    }
   },
   "outputs": [],
   "source": [
    "# Run the following command on your local computer to check the version of sklearn\n",
    "import sklearn\n",
    "!python --version\n",
    "print(f\"sklearn version: {sklearn.__version__}\")"
   ]
  },
  {
   "cell_type": "code",
   "execution_count": null,
   "id": "a36a872a",
   "metadata": {
    "ExecuteTime": {
     "end_time": "2023-01-25T00:11:09.426696Z",
     "start_time": "2023-01-25T00:11:09.384807Z"
    }
   },
   "outputs": [],
   "source": [
    "# ### Train Test Split\n",
    "## Make x and y variables\n",
    "target = \"Life expectancy\"\n",
    "drop_feats = []\n",
    "\n",
    "y = df[target].copy()\n",
    "X = df.drop(columns=[target, *drop_feats]).copy()\n",
    "\n",
    "## train-test-split with random state for reproducibility\n",
    "X_train, X_test, y_train, y_test = train_test_split(X,y, random_state=SEED)\n",
    "X_train.head(3)"
   ]
  },
  {
   "cell_type": "code",
   "execution_count": null,
   "id": "f77d893c",
   "metadata": {
    "ExecuteTime": {
     "end_time": "2023-01-25T00:11:09.454330Z",
     "start_time": "2023-01-25T00:11:09.427616Z"
    }
   },
   "outputs": [],
   "source": [
    "## Make numeric preprocessing pipeline\n",
    "num_sel = make_column_selector(dtype_include='number')\n",
    "num_pipe = make_pipeline(SimpleImputer(strategy='mean'))\n",
    "num_pipe"
   ]
  },
  {
   "cell_type": "code",
   "execution_count": null,
   "id": "6c7bffdd",
   "metadata": {
    "ExecuteTime": {
     "end_time": "2023-01-25T00:11:09.479974Z",
     "start_time": "2023-01-25T00:11:09.455151Z"
    }
   },
   "outputs": [],
   "source": [
    "## Make categorical preprocessing pipeline\n",
    "cat_sel = make_column_selector(dtype_include='object')\n",
    "cat_pipe = make_pipeline(SimpleImputer(strategy='constant',\n",
    "                                       fill_value='MISSING'),\n",
    "                         OneHotEncoder(handle_unknown='ignore', sparse=False))"
   ]
  },
  {
   "cell_type": "code",
   "execution_count": null,
   "id": "a4df81e7",
   "metadata": {
    "ExecuteTime": {
     "end_time": "2023-01-25T00:11:09.512187Z",
     "start_time": "2023-01-25T00:11:09.480814Z"
    }
   },
   "outputs": [],
   "source": [
    "## make the preprocessing column transformer\n",
    "preprocessor = make_column_transformer((num_pipe, num_sel),\n",
    "                                       (cat_pipe,cat_sel),)\n",
    "preprocessor"
   ]
  },
  {
   "cell_type": "markdown",
   "id": "3afce3de",
   "metadata": {},
   "source": [
    "### Make X_train_df and X_test_df, dataframe verisons of processed X_train/X_test."
   ]
  },
  {
   "cell_type": "code",
   "execution_count": null,
   "id": "cde0f281",
   "metadata": {
    "ExecuteTime": {
     "end_time": "2023-01-25T00:11:09.595006Z",
     "start_time": "2023-01-25T00:11:09.513207Z"
    }
   },
   "outputs": [],
   "source": [
    "preprocessor.fit(X_train)\n",
    "X_train_df = pd.DataFrame(preprocessor.transform(X_train),\n",
    "                          columns=preprocessor.get_feature_names_out(),\n",
    "                         index=X_train.index)\n",
    "X_test_df = pd.DataFrame(preprocessor.transform(X_test),\n",
    "                          columns=preprocessor.get_feature_names_out(),\n",
    "                         index=X_test.index)\n",
    "display(X_train_df)"
   ]
  },
  {
   "cell_type": "markdown",
   "id": "2328d3ec",
   "metadata": {},
   "source": [
    "> #### Q: What's up with the feature names? What are we seeing?"
   ]
  },
  {
   "cell_type": "markdown",
   "id": "6b1941e8",
   "metadata": {},
   "source": [
    "### Get Features Names + Verbose Feature Names Out"
   ]
  },
  {
   "cell_type": "code",
   "execution_count": null,
   "id": "26bdb1a4",
   "metadata": {
    "ExecuteTime": {
     "end_time": "2023-01-25T00:11:09.685309Z",
     "start_time": "2023-01-25T00:11:09.595973Z"
    }
   },
   "outputs": [],
   "source": [
    "## make the preprocessing column transformer WITH CORRECT ARGS!\n",
    "preprocessor = make_column_transformer((num_pipe, num_sel),\n",
    "                                       (cat_pipe,cat_sel),\n",
    "                                      verbose_feature_names_out=False)\n",
    "preprocessor.fit(X_train)\n",
    "X_train_df = pd.DataFrame(preprocessor.transform(X_train),\n",
    "                          columns=preprocessor.get_feature_names_out(),\n",
    "                         index=X_train.index)\n",
    "X_test_df = pd.DataFrame(preprocessor.transform(X_test),\n",
    "                          columns=preprocessor.get_feature_names_out(),\n",
    "                         index=X_test.index)\n",
    "display(X_train_df)\n"
   ]
  },
  {
   "cell_type": "markdown",
   "id": "4f7809a0",
   "metadata": {},
   "source": [
    "# Modeling - Linear Regression"
   ]
  },
  {
   "cell_type": "code",
   "execution_count": null,
   "id": "e06edec8",
   "metadata": {
    "ExecuteTime": {
     "end_time": "2023-01-25T00:11:09.713636Z",
     "start_time": "2023-01-25T00:11:09.686288Z"
    }
   },
   "outputs": [],
   "source": [
    "def evaluate_regression(model, X_train,y_train, X_test, y_test,for_slides=True): \n",
    "    \"\"\"Evaluates a scikit learn regression model using r-squared and RMSE\n",
    "    FOR SLIDES VERS DOES MULTIPLE PRINT STATEMENTS FOR VERTICAL DISPLAY OF INFO\"\"\"\n",
    "    \n",
    "    ## Training Data\n",
    "    y_pred_train = model.predict(X_train)\n",
    "    r2_train = metrics.r2_score(y_train, y_pred_train)\n",
    "    rmse_train = metrics.mean_squared_error(y_train, y_pred_train, \n",
    "                                            squared=False)\n",
    "    mae_train = metrics.mean_absolute_error(y_train, y_pred_train)\n",
    "    \n",
    "\n",
    "    ## Test Data\n",
    "    y_pred_test = model.predict(X_test)\n",
    "    r2_test = metrics.r2_score(y_test, y_pred_test)\n",
    "    rmse_test = metrics.mean_squared_error(y_test, y_pred_test, \n",
    "                                            squared=False)\n",
    "    mae_test = metrics.mean_absolute_error(y_test, y_pred_test)\n",
    "    \n",
    "    if for_slides:\n",
    "        df_version =[['Split','R^2','MAE','RMSE']]\n",
    "        df_version.append(['Train',r2_train, mae_train, rmse_train])\n",
    "        df_version.append(['Test',r2_test, mae_test, rmse_test])\n",
    "        df_results = pd.DataFrame(df_version[1:], columns=df_version[0])\n",
    "        df_results = df_results.round(2)\n",
    "        display(df_results.style.hide(axis='index').format(precision=2, thousands=','))\n",
    "        \n",
    "    else: \n",
    "        print(f\"Training Data:\\tR^2 = {r2_train:,.2f}\\tRMSE = {rmse_train:,.2f}\\tMAE = {mae_train:,.2f}\")\n",
    "        print(f\"Test Data:\\tR^2 = {r2_test:,.2f}\\tRMSE = {rmse_test:,.2f}\\tMAE = {mae_test:,.2f}\")\n",
    "\n"
   ]
  },
  {
   "cell_type": "markdown",
   "id": "2354dcaa",
   "metadata": {},
   "source": [
    "## Model 1: Baseline LinReg"
   ]
  },
  {
   "cell_type": "code",
   "execution_count": null,
   "id": "98d32377",
   "metadata": {
    "ExecuteTime": {
     "end_time": "2023-01-25T00:11:09.827574Z",
     "start_time": "2023-01-25T00:11:09.714406Z"
    }
   },
   "outputs": [],
   "source": [
    "from sklearn.linear_model import LinearRegression\n",
    "lin_reg= LinearRegression()\n",
    "lin_reg.fit(X_train_df,y_train)\n",
    "evaluate_regression(lin_reg, X_train_df, y_train, \n",
    "                    X_test_df, y_test)"
   ]
  },
  {
   "cell_type": "code",
   "execution_count": null,
   "id": "7a4e89f2",
   "metadata": {
    "ExecuteTime": {
     "end_time": "2023-01-25T00:11:09.977268Z",
     "start_time": "2023-01-25T00:11:09.828729Z"
    }
   },
   "outputs": [],
   "source": [
    "de.plot_residuals(lin_reg, X_test_df,y_test)"
   ]
  },
  {
   "cell_type": "markdown",
   "id": "3cabe320",
   "metadata": {},
   "source": [
    "### Extracting and Visualizing Coefficients"
   ]
  },
  {
   "cell_type": "markdown",
   "id": "c4d32bf5",
   "metadata": {},
   "source": [
    "#### Extracting Coefficients"
   ]
  },
  {
   "cell_type": "code",
   "execution_count": null,
   "id": "6448751f",
   "metadata": {
    "ExecuteTime": {
     "end_time": "2023-01-25T00:11:10.007045Z",
     "start_time": "2023-01-25T00:11:09.978283Z"
    }
   },
   "outputs": [],
   "source": [
    "## access the .coef_ \n",
    "# lin_reg.coef_"
   ]
  },
  {
   "cell_type": "code",
   "execution_count": null,
   "id": "b6cde4b6",
   "metadata": {
    "ExecuteTime": {
     "end_time": "2023-01-25T00:11:10.038636Z",
     "start_time": "2023-01-25T00:11:10.008842Z"
    }
   },
   "outputs": [],
   "source": [
    "## Intercept\n",
    "# lin_reg.intercept_"
   ]
  },
  {
   "cell_type": "code",
   "execution_count": null,
   "id": "beaa5a79",
   "metadata": {
    "ExecuteTime": {
     "end_time": "2023-01-25T00:11:10.066639Z",
     "start_time": "2023-01-25T00:11:10.039708Z"
    },
    "scrolled": false
   },
   "outputs": [],
   "source": [
    "# ## Saving the coefficients\n",
    "# coeffs = pd.Series(lin_reg.coef_, index= lin_reg.feature_names_in_)\n",
    "# coeffs.loc['intercept'] = lin_reg.intercept_\n",
    "# coeffs"
   ]
  },
  {
   "cell_type": "markdown",
   "id": "948f56da",
   "metadata": {},
   "source": [
    "#### def `get_coefficients`"
   ]
  },
  {
   "cell_type": "code",
   "execution_count": null,
   "id": "74c07d8d",
   "metadata": {
    "ExecuteTime": {
     "end_time": "2023-01-25T00:11:10.095698Z",
     "start_time": "2023-01-25T00:11:10.067774Z"
    }
   },
   "outputs": [],
   "source": [
    "def get_coefficients(lin_reg):\n",
    "    coeffs = pd.Series(lin_reg.coef_, index= lin_reg.feature_names_in_)\n",
    "    coeffs.loc['intercept'] = lin_reg.intercept_\n",
    "    return coeffs"
   ]
  },
  {
   "cell_type": "code",
   "execution_count": null,
   "id": "2ccc33ea",
   "metadata": {
    "ExecuteTime": {
     "end_time": "2023-01-25T00:11:10.124603Z",
     "start_time": "2023-01-25T00:11:10.096601Z"
    }
   },
   "outputs": [],
   "source": [
    "coeffs = get_coefficients(lin_reg)\n",
    "coeffs"
   ]
  },
  {
   "cell_type": "code",
   "execution_count": null,
   "id": "d9942674",
   "metadata": {
    "ExecuteTime": {
     "end_time": "2023-01-25T00:11:10.150085Z",
     "start_time": "2023-01-25T00:11:10.125351Z"
    }
   },
   "outputs": [],
   "source": [
    "## formatting numbers to not use , thousands sep, and 4 digits floats\n",
    "pd.set_option('display.float_format',lambda x: f\"{x:,.4f}\")\n",
    "pd.set_option('display.max_rows', None)"
   ]
  },
  {
   "cell_type": "code",
   "execution_count": null,
   "id": "6c29910c",
   "metadata": {
    "ExecuteTime": {
     "end_time": "2023-01-25T00:11:10.178614Z",
     "start_time": "2023-01-25T00:11:10.150969Z"
    },
    "scrolled": false
   },
   "outputs": [],
   "source": [
    "coeffs.sort_values()"
   ]
  },
  {
   "cell_type": "markdown",
   "id": "fbeee9ca",
   "metadata": {},
   "source": [
    "### Visualizing"
   ]
  },
  {
   "cell_type": "markdown",
   "id": "4953ddf0",
   "metadata": {},
   "source": [
    "#### **Q: How can we handle this many coefficients in our viz?**\n",
    "\n",
    "- Some options include:\n",
    "    - Only plot most the N most positive and N most negative.\n",
    "    - Separate out OHE countries into a separate graph.\n",
    "    \n",
    "    \n",
    "- Let's try the second option: separating the OHE countries."
   ]
  },
  {
   "cell_type": "code",
   "execution_count": null,
   "id": "2c675c40",
   "metadata": {
    "ExecuteTime": {
     "end_time": "2023-01-25T00:11:10.204542Z",
     "start_time": "2023-01-25T00:11:10.179400Z"
    }
   },
   "outputs": [],
   "source": [
    "## Get a list of all of the ohe columsn\n",
    "country_feats = [c for c in X_train_df.columns if c.startswith('Country')]\n",
    "len(country_feats)"
   ]
  },
  {
   "cell_type": "code",
   "execution_count": null,
   "id": "99c48dd5",
   "metadata": {
    "ExecuteTime": {
     "end_time": "2023-01-25T00:11:10.976880Z",
     "start_time": "2023-01-25T00:11:10.208676Z"
    }
   },
   "outputs": [],
   "source": [
    "## Plot country ceoffs\n",
    "ax = coeffs[country_feats].sort_values().plot(kind='barh', figsize=(8,26))\n",
    "ax.axvline(0, color='k')\n",
    "ax.set(xlabel='Life Expectancy', title=\"Coefficients - Countries\");"
   ]
  },
  {
   "cell_type": "code",
   "execution_count": null,
   "id": "4f990f1b",
   "metadata": {
    "ExecuteTime": {
     "end_time": "2023-01-25T00:11:11.125536Z",
     "start_time": "2023-01-25T00:11:10.977681Z"
    },
    "scrolled": false
   },
   "outputs": [],
   "source": [
    "## Plot everything but countries\n",
    "ax = coeffs.drop(country_feats).sort_values().plot(kind='barh')#, figsize=(8,26))\n",
    "ax.axvline(0)\n",
    "ax.set(xlabel='Life Expectancy', title=\"Coefficients - Without Countries\");"
   ]
  },
  {
   "cell_type": "markdown",
   "id": "74d86f33",
   "metadata": {},
   "source": [
    "> ***Q: What do we notice about our non-country coefficients? Is there anything odd that would be difficult to a stakeholder?***"
   ]
  },
  {
   "cell_type": "markdown",
   "id": "6586e693",
   "metadata": {},
   "source": [
    "- What would we get if we didn't include an intercept?"
   ]
  },
  {
   "cell_type": "markdown",
   "id": "40de0858",
   "metadata": {},
   "source": [
    "## Model #2 - No Intercept"
   ]
  },
  {
   "cell_type": "code",
   "execution_count": null,
   "id": "071548a9",
   "metadata": {
    "ExecuteTime": {
     "end_time": "2023-01-25T00:11:11.221970Z",
     "start_time": "2023-01-25T00:11:11.126565Z"
    }
   },
   "outputs": [],
   "source": [
    "lin_reg_noint= LinearRegression(fit_intercept=False)\n",
    "lin_reg_noint.fit(X_train_df,y_train)\n",
    "evaluate_regression(lin_reg_noint, X_train_df, y_train, \n",
    "                    X_test_df, y_test)"
   ]
  },
  {
   "cell_type": "markdown",
   "id": "7a39918d",
   "metadata": {},
   "source": [
    "> Notice the model's performance is the same"
   ]
  },
  {
   "cell_type": "code",
   "execution_count": null,
   "id": "abf14a01",
   "metadata": {
    "ExecuteTime": {
     "end_time": "2023-01-25T00:11:11.414816Z",
     "start_time": "2023-01-25T00:11:11.223048Z"
    },
    "scrolled": false
   },
   "outputs": [],
   "source": [
    "de.plot_residuals(lin_reg_noint, X_test_df,y_test)"
   ]
  },
  {
   "cell_type": "code",
   "execution_count": null,
   "id": "8ba4c775",
   "metadata": {
    "ExecuteTime": {
     "end_time": "2023-01-25T00:11:11.443803Z",
     "start_time": "2023-01-25T00:11:11.415764Z"
    }
   },
   "outputs": [],
   "source": [
    "coeffs_noint = get_coefficients(lin_reg_noint)\n",
    "coeffs_noint"
   ]
  },
  {
   "cell_type": "markdown",
   "id": "a5d9cb70",
   "metadata": {},
   "source": [
    "> But coefficients have changed"
   ]
  },
  {
   "cell_type": "code",
   "execution_count": null,
   "id": "54d47c11",
   "metadata": {
    "ExecuteTime": {
     "end_time": "2023-01-25T00:11:12.271982Z",
     "start_time": "2023-01-25T00:11:11.444814Z"
    }
   },
   "outputs": [],
   "source": [
    "ax = coeffs_noint[country_feats].sort_values().plot(kind='barh', figsize=(8,26))\n",
    "ax.axvline(0)\n",
    "ax.set(xlabel='Life Expectancy', title=\"Coefficients - Countries\");"
   ]
  },
  {
   "cell_type": "code",
   "execution_count": null,
   "id": "8218affd",
   "metadata": {
    "ExecuteTime": {
     "end_time": "2023-01-25T00:11:12.568469Z",
     "start_time": "2023-01-25T00:11:12.273237Z"
    },
    "scrolled": false
   },
   "outputs": [],
   "source": [
    "ax = coeffs_noint.drop(country_feats).sort_values().plot(kind='barh')#, figsize=(8,26))\n",
    "ax.axvline(0)\n",
    "ax.set(xlabel='Life Expectancy', title=\"Coefficients - Without Countries\");"
   ]
  },
  {
   "cell_type": "markdown",
   "id": "9add0ec0",
   "metadata": {},
   "source": [
    "## Model #3 - No Countries"
   ]
  },
  {
   "cell_type": "code",
   "execution_count": null,
   "id": "6de665bd",
   "metadata": {
    "ExecuteTime": {
     "end_time": "2023-01-25T00:11:12.642252Z",
     "start_time": "2023-01-25T00:11:12.570076Z"
    }
   },
   "outputs": [],
   "source": [
    "# ### Train Test Split\n",
    "## Make x and y variables\n",
    "target = \"Life expectancy\"\n",
    "drop_feats = [\"Country\"]\n",
    "\n",
    "y = df[target].copy()\n",
    "X = df.drop(columns=[target, *drop_feats]).copy()\n",
    "\n",
    "## train-test-split with random state for reproducibility\n",
    "X_train, X_test, y_train, y_test = train_test_split(X,y, random_state=SEED)\n",
    "\n",
    "## Make numeric preprocessing pipeline\n",
    "num_sel = make_column_selector(dtype_include='number')\n",
    "num_pipe = make_pipeline(SimpleImputer(strategy='mean'))\n",
    "\n",
    "\n",
    "## Make categorical preprocessing pipeline\n",
    "cat_sel = make_column_selector(dtype_include='object')\n",
    "cat_pipe = make_pipeline(SimpleImputer(strategy='constant',\n",
    "                                       fill_value='MISSING'),\n",
    "                         OneHotEncoder(handle_unknown='ignore', sparse=False))"
   ]
  },
  {
   "cell_type": "code",
   "execution_count": null,
   "id": "c1adac86",
   "metadata": {
    "ExecuteTime": {
     "end_time": "2023-01-25T00:11:12.706779Z",
     "start_time": "2023-01-25T00:11:12.647925Z"
    }
   },
   "outputs": [],
   "source": [
    "preprocessor.fit(X_train)\n",
    "feature_names = preprocessor.get_feature_names_out()\n",
    "X_train_df = pd.DataFrame(preprocessor.transform(X_train),\n",
    "                          columns=feature_names,\n",
    "                         index=X_train.index)\n",
    "X_test_df = pd.DataFrame(preprocessor.transform(X_test),\n",
    "                          columns=feature_names,\n",
    "                         index=X_test.index)\n"
   ]
  },
  {
   "cell_type": "code",
   "execution_count": null,
   "id": "c21a579a",
   "metadata": {
    "ExecuteTime": {
     "end_time": "2023-01-25T00:11:12.759215Z",
     "start_time": "2023-01-25T00:11:12.707759Z"
    }
   },
   "outputs": [],
   "source": [
    "lin_reg= LinearRegression(fit_intercept=False)\n",
    "lin_reg.fit(X_train_df,y_train)\n",
    "evaluate_regression(lin_reg, X_train_df, y_train, \n",
    "                    X_test_df, y_test)"
   ]
  },
  {
   "cell_type": "code",
   "execution_count": null,
   "id": "681afa5b",
   "metadata": {
    "ExecuteTime": {
     "end_time": "2023-01-25T00:11:13.015339Z",
     "start_time": "2023-01-25T00:11:12.764462Z"
    }
   },
   "outputs": [],
   "source": [
    "de.plot_residuals(lin_reg, X_test_df,y_test)"
   ]
  },
  {
   "cell_type": "code",
   "execution_count": null,
   "id": "1b25f255",
   "metadata": {
    "ExecuteTime": {
     "end_time": "2023-01-25T00:11:13.058873Z",
     "start_time": "2023-01-25T00:11:13.017539Z"
    }
   },
   "outputs": [],
   "source": [
    "coeffs = get_coefficients(lin_reg)\n",
    "coeffs"
   ]
  },
  {
   "cell_type": "code",
   "execution_count": null,
   "id": "5b1a4743",
   "metadata": {
    "ExecuteTime": {
     "end_time": "2023-01-25T00:11:13.280082Z",
     "start_time": "2023-01-25T00:11:13.064805Z"
    }
   },
   "outputs": [],
   "source": [
    "coeffs.sort_values().plot(kind='barh')"
   ]
  },
  {
   "cell_type": "markdown",
   "id": "07f62b6b",
   "metadata": {},
   "source": [
    "## Model 3: Dropping Categories with OneHotEncoder"
   ]
  },
  {
   "cell_type": "markdown",
   "id": "9291bdb9",
   "metadata": {},
   "source": [
    "####  OneHotEncoder's Drop Argument"
   ]
  },
  {
   "cell_type": "code",
   "execution_count": null,
   "id": "4565bf2b",
   "metadata": {
    "ExecuteTime": {
     "end_time": "2023-01-25T00:11:13.330964Z",
     "start_time": "2023-01-25T00:11:13.281714Z"
    }
   },
   "outputs": [],
   "source": [
    "## make pipelines for categorical vs numeric data\n",
    "cat_pipe = make_pipeline(SimpleImputer(strategy='constant',\n",
    "                                       fill_value='MISSING'),\n",
    "                         OneHotEncoder(drop='if_binary', sparse=False,\n",
    "                                      ))\n",
    "cat_pipe"
   ]
  },
  {
   "cell_type": "code",
   "execution_count": null,
   "id": "11a9bcd5",
   "metadata": {
    "ExecuteTime": {
     "end_time": "2023-01-25T00:11:13.405869Z",
     "start_time": "2023-01-25T00:11:13.332375Z"
    }
   },
   "outputs": [],
   "source": [
    "num_pipe = make_pipeline(SimpleImputer(strategy='mean'))\n",
    "\n",
    "## make the preprocessing column transformer\n",
    "preprocessor = make_column_transformer((num_pipe, num_sel),\n",
    "                                       (cat_pipe,cat_sel),\n",
    "                                      verbose_feature_names_out=False)\n",
    "preprocessor\n",
    "\n",
    "preprocessor.fit(X_train)\n",
    "feature_names = preprocessor.get_feature_names_out()\n",
    "\n",
    "X_train_df = pd.DataFrame(preprocessor.transform(X_train),\n",
    "                          columns=feature_names,\n",
    "                         index=X_train.index)\n",
    "X_test_df = pd.DataFrame(preprocessor.transform(X_test),\n",
    "                          columns=feature_names,\n",
    "                         index=X_test.index)\n",
    "display(X_train_df.head())"
   ]
  },
  {
   "cell_type": "code",
   "execution_count": null,
   "id": "cebc30e5",
   "metadata": {
    "ExecuteTime": {
     "end_time": "2023-01-25T00:11:13.781603Z",
     "start_time": "2023-01-25T00:11:13.407139Z"
    }
   },
   "outputs": [],
   "source": [
    "lin_reg_drop = LinearRegression(fit_intercept=False)\n",
    "lin_reg_drop.fit(X_train_df,y_train)\n",
    "evaluate_regression(lin_reg_drop, X_train_df, y_train, \n",
    "                    X_test_df, y_test)\n",
    "\n",
    "de.plot_residuals(lin_reg_drop, X_test_df,y_test)"
   ]
  },
  {
   "cell_type": "code",
   "execution_count": null,
   "id": "4fb31309",
   "metadata": {
    "ExecuteTime": {
     "end_time": "2023-01-25T00:11:14.039984Z",
     "start_time": "2023-01-25T00:11:13.783379Z"
    }
   },
   "outputs": [],
   "source": [
    "coeffs_dropped = get_coefficients(lin_reg_drop)\n",
    "\n",
    "\n",
    "ax = coeffs_dropped.sort_values().plot(kind='barh')#, figsize=(8,26))\n",
    "ax.axvline(0)\n",
    "ax.set(xlabel='Life Expectancy', title=\"Coefficients - Without Countries\");"
   ]
  },
  {
   "cell_type": "markdown",
   "id": "253ea0d9",
   "metadata": {},
   "source": [
    "> ***Q: What are the most positive coefficients? What are the most negative?***\n",
    "\n",
    "- Why does infant_deaths have a positive coefficient??"
   ]
  },
  {
   "cell_type": "code",
   "execution_count": null,
   "id": "e7298997",
   "metadata": {
    "ExecuteTime": {
     "end_time": "2023-01-25T00:11:14.086998Z",
     "start_time": "2023-01-25T00:11:14.041347Z"
    }
   },
   "outputs": [],
   "source": [
    "plot_df = pd.concat([X_train_df,y_train],axis=1)"
   ]
  },
  {
   "cell_type": "code",
   "execution_count": null,
   "id": "e38c2663",
   "metadata": {
    "ExecuteTime": {
     "end_time": "2023-01-25T00:11:14.248431Z",
     "start_time": "2023-01-25T00:11:14.088410Z"
    },
    "scrolled": true
   },
   "outputs": [],
   "source": [
    "sns.scatterplot(data=plot_df, x='infant deaths', y=target)"
   ]
  },
  {
   "cell_type": "code",
   "execution_count": null,
   "id": "4675a9d2",
   "metadata": {
    "ExecuteTime": {
     "end_time": "2023-01-25T00:11:14.535541Z",
     "start_time": "2023-01-25T00:11:14.250311Z"
    }
   },
   "outputs": [],
   "source": [
    "regplot_kws = dict(line_kws={'color':'red'},\n",
    "                  scatter_kws={'ec':'white','lw':0.5})\n",
    "sns.regplot(data=plot_df, x='infant deaths', y=target,**regplot_kws)\n",
    "           "
   ]
  },
  {
   "cell_type": "code",
   "execution_count": null,
   "id": "162ff863",
   "metadata": {
    "ExecuteTime": {
     "end_time": "2023-01-25T00:11:14.707635Z",
     "start_time": "2023-01-25T00:11:14.537097Z"
    }
   },
   "outputs": [],
   "source": [
    "sns.regplot(data=plot_df, x='infant deaths', y=target,**regplot_kws,\n",
    "           lowess=True)\n"
   ]
  },
  {
   "cell_type": "markdown",
   "id": "2fc07032",
   "metadata": {},
   "source": [
    "> Feature is too complex for a simple linear regression. Let's try a random forest."
   ]
  },
  {
   "cell_type": "markdown",
   "id": "9373cbf6",
   "metadata": {},
   "source": [
    "## Feature Importance"
   ]
  },
  {
   "cell_type": "code",
   "execution_count": null,
   "id": "d0d79dde",
   "metadata": {
    "ExecuteTime": {
     "end_time": "2023-01-25T00:11:14.753006Z",
     "start_time": "2023-01-25T00:11:14.709013Z"
    }
   },
   "outputs": [],
   "source": [
    "from sklearn.ensemble import RandomForestRegressor"
   ]
  },
  {
   "cell_type": "code",
   "execution_count": null,
   "id": "7a1b02eb",
   "metadata": {
    "ExecuteTime": {
     "end_time": "2023-01-25T00:11:16.534824Z",
     "start_time": "2023-01-25T00:11:14.754226Z"
    }
   },
   "outputs": [],
   "source": [
    "rf_reg = RandomForestRegressor()\n",
    "rf_reg.fit(X_train_df,y_train)\n",
    "evaluate_regression(rf_reg, X_train_df, y_train, \n",
    "                    X_test_df, y_test)"
   ]
  },
  {
   "cell_type": "markdown",
   "id": "418ccf35",
   "metadata": {},
   "source": [
    "> Using the models .feature_names_in_"
   ]
  },
  {
   "cell_type": "code",
   "execution_count": null,
   "id": "41adc56a",
   "metadata": {
    "ExecuteTime": {
     "end_time": "2023-01-25T00:11:16.587822Z",
     "start_time": "2023-01-25T00:11:16.536249Z"
    }
   },
   "outputs": [],
   "source": [
    "## Saving the coefficients\n",
    "importances = pd.Series(rf_reg.feature_importances_, index= rf_reg.feature_names_in_)\n",
    "importances"
   ]
  },
  {
   "cell_type": "code",
   "execution_count": null,
   "id": "8ee4efae",
   "metadata": {
    "ExecuteTime": {
     "end_time": "2023-01-25T00:11:16.837281Z",
     "start_time": "2023-01-25T00:11:16.589008Z"
    }
   },
   "outputs": [],
   "source": [
    "ax = importances.sort_values().tail(20).plot(kind='barh')#,figsize=(6,4))\n",
    "ax.axvline(0, color='k')\n",
    "ax.set(title='Feature Importance - Decision Tree Regressor',ylabel=\"Feature Name\",\n",
    "      xlabel='Importance');\n"
   ]
  },
  {
   "cell_type": "markdown",
   "id": "d7f18209",
   "metadata": {},
   "source": [
    "## Using joblib to Save our Model, Data, and Objects"
   ]
  },
  {
   "cell_type": "code",
   "execution_count": null,
   "id": "af9a0bc6",
   "metadata": {
    "ExecuteTime": {
     "end_time": "2023-01-25T00:11:16.893408Z",
     "start_time": "2023-01-25T00:11:16.838657Z"
    }
   },
   "outputs": [],
   "source": [
    "X_train.head()"
   ]
  },
  {
   "cell_type": "code",
   "execution_count": null,
   "id": "741496f5",
   "metadata": {
    "ExecuteTime": {
     "end_time": "2023-01-25T00:11:17.354907Z",
     "start_time": "2023-01-25T00:11:16.900776Z"
    }
   },
   "outputs": [],
   "source": [
    "evaluate_regression(lin_reg,X_train_df,y_train, X_test_df, y_test)"
   ]
  },
  {
   "cell_type": "code",
   "execution_count": null,
   "id": "1335b748",
   "metadata": {
    "ExecuteTime": {
     "end_time": "2023-01-25T00:11:17.355644Z",
     "start_time": "2023-01-25T00:11:17.355639Z"
    }
   },
   "outputs": [],
   "source": [
    "evaluate_regression(rf_reg,X_train_df,y_train, X_test_df, y_test)"
   ]
  },
  {
   "cell_type": "code",
   "execution_count": null,
   "id": "ca1b9a8f",
   "metadata": {
    "ExecuteTime": {
     "end_time": "2023-01-25T00:11:17.356192Z",
     "start_time": "2023-01-25T00:11:17.356186Z"
    }
   },
   "outputs": [],
   "source": [
    "import joblib, os\n",
    "\n",
    "## creating a dictionary of all of the variables to save for later\n",
    "export = {'X_train':X_train,\n",
    "         'y_train':y_train,\n",
    "         'X_test':X_test,\n",
    "         'y_test':y_test,\n",
    "          'preprocessor':preprocessor,\n",
    "         'LinearRegression': lin_reg,\n",
    "          'RandomForestRegressor':rf_reg\n",
    "         }"
   ]
  },
  {
   "cell_type": "code",
   "execution_count": null,
   "id": "096c3ff6",
   "metadata": {
    "ExecuteTime": {
     "end_time": "2023-01-25T00:11:17.356976Z",
     "start_time": "2023-01-25T00:11:17.356970Z"
    }
   },
   "outputs": [],
   "source": [
    "folder = \"Models/\"\n",
    "os.makedirs(folder, exist_ok=True)"
   ]
  },
  {
   "cell_type": "code",
   "execution_count": null,
   "id": "192af338",
   "metadata": {
    "ExecuteTime": {
     "end_time": "2023-01-25T00:11:17.357679Z",
     "start_time": "2023-01-25T00:11:17.357674Z"
    }
   },
   "outputs": [],
   "source": [
    "fname = folder+'wk1-lect01-codealong.joblib'\n",
    "joblib.dump(export, fname)"
   ]
  },
  {
   "cell_type": "code",
   "execution_count": null,
   "id": "d8bd7f5c",
   "metadata": {
    "ExecuteTime": {
     "end_time": "2023-01-25T00:11:17.358199Z",
     "start_time": "2023-01-25T00:11:17.358194Z"
    }
   },
   "outputs": [],
   "source": [
    "loaded = joblib.load(fname)\n",
    "loaded.keys()"
   ]
  },
  {
   "cell_type": "markdown",
   "id": "ca53faa7",
   "metadata": {},
   "source": [
    "> We will continue working with this task and these models next class!"
   ]
  },
  {
   "cell_type": "markdown",
   "id": "895d1c9c",
   "metadata": {
    "ExecuteTime": {
     "end_time": "2023-01-13T19:13:59.215605Z",
     "start_time": "2023-01-13T19:13:59.172852Z"
    }
   },
   "source": [
    "# *Teaser* Shap (For Regression)"
   ]
  },
  {
   "cell_type": "code",
   "execution_count": null,
   "id": "2ec89e9d",
   "metadata": {
    "ExecuteTime": {
     "end_time": "2023-01-25T00:11:17.358925Z",
     "start_time": "2023-01-25T00:11:17.358920Z"
    }
   },
   "outputs": [],
   "source": [
    "# Import and init shap\n",
    "import shap\n",
    "shap.initjs()"
   ]
  },
  {
   "cell_type": "code",
   "execution_count": null,
   "id": "396f1dcc",
   "metadata": {
    "ExecuteTime": {
     "end_time": "2023-01-25T00:11:17.359661Z",
     "start_time": "2023-01-25T00:11:17.359652Z"
    }
   },
   "outputs": [],
   "source": [
    "# Take a sample of the training data\n",
    "X_shap = shap.sample(X_train_df,nsamples = 500,random_state=SEED)\n",
    "y_shap = y_train.loc[X_shap.index]\n",
    "\n",
    "# Instantiate a Model Explainer with the model\n",
    "explainer = shap.Explainer(rf_reg)\n",
    "\n",
    "## Get shap values form the explainer\n",
    "shap_values = explainer(X_shap,y_shap)"
   ]
  },
  {
   "cell_type": "code",
   "execution_count": null,
   "id": "0a6d21ed",
   "metadata": {
    "ExecuteTime": {
     "end_time": "2023-01-25T00:11:17.360095Z",
     "start_time": "2023-01-25T00:11:17.360090Z"
    }
   },
   "outputs": [],
   "source": [
    "shap.summary_plot(shap_values, features = X_shap)"
   ]
  }
 ],
 "metadata": {
  "kernelspec": {
   "display_name": "Python (dojo-env)",
   "language": "python",
   "name": "dojo-env"
  },
  "language_info": {
   "codemirror_mode": {
    "name": "ipython",
    "version": 3
   },
   "file_extension": ".py",
   "mimetype": "text/x-python",
   "name": "python",
   "nbconvert_exporter": "python",
   "pygments_lexer": "ipython3",
   "version": "3.9.15"
  },
  "toc": {
   "base_numbering": 1,
   "nav_menu": {},
   "number_sections": false,
   "sideBar": true,
   "skip_h1_title": false,
   "title_cell": "Table of Contents",
   "title_sidebar": "Contents",
   "toc_cell": false,
   "toc_position": {
    "height": "calc(100% - 180px)",
    "left": "10px",
    "top": "150px",
    "width": "303.016px"
   },
   "toc_section_display": true,
   "toc_window_display": true
  }
 },
 "nbformat": 4,
 "nbformat_minor": 5
}
